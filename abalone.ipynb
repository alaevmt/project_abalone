{
 "cells": [
  {
   "cell_type": "markdown",
   "id": "7560fcda",
   "metadata": {},
   "source": [
    "# Начало"
   ]
  },
  {
   "cell_type": "markdown",
   "id": "d546732f",
   "metadata": {},
   "source": [
    "1. Импортируем библиотеки, которые будем использовать; \n",
    "2. В переменную dataset прогрузим наши данные."
   ]
  },
  {
   "cell_type": "code",
   "execution_count": 69,
   "id": "3ef6eeec",
   "metadata": {},
   "outputs": [],
   "source": [
    "import pandas as pd\n",
    "import numpy as np\n",
    "import matplotlib.pyplot as plt\n",
    "import seaborn as sns"
   ]
  },
  {
   "cell_type": "code",
   "execution_count": 70,
   "id": "604459a5",
   "metadata": {},
   "outputs": [],
   "source": [
    "dataset = 'https://raw.githubusercontent.com/alaevmt/project_abalone/main/abalone.csv'"
   ]
  },
  {
   "cell_type": "code",
   "execution_count": 71,
   "id": "27cf9879",
   "metadata": {},
   "outputs": [],
   "source": [
    "df = pd.read_csv(dataset)"
   ]
  },
  {
   "cell_type": "markdown",
   "id": "4e2bae03",
   "metadata": {},
   "source": [
    "# Описание данных"
   ]
  },
  {
   "cell_type": "markdown",
   "id": "b26a6ba5",
   "metadata": {},
   "source": [
    "В тёплых тропических и субтропических водах на побережье Калифорнии в США, а также на побережье Мексики можно встретить невзрачного на вид моллюска под названием галиотис или по простому - морское ушко. Эта брюхоногая улитка и правда напоминает человеческое ухо, вырастая как правило до 5-7 см в длину, изредка встречаются и особи побольше - до 35 см. Очень редко, в одном случае из 50-ти тысяч, в раковине моллюска галиотис находят причудливые жемчужины, получившие название Абалон."
   ]
  },
  {
   "cell_type": "markdown",
   "id": "04cb4c01",
   "metadata": {},
   "source": [
    "## Abalone\n",
    "**Predict the age of abalone from physical measurements**\n",
    "\n",
    "`Sex` - nominal -  M, F, and I (infant)\n",
    "\n",
    "`Length` - continuous - mm -  Longest shell measurement\n",
    "\n",
    "`Diameter` -  continuous - mm - perpendicular to length\n",
    "\n",
    "`Height` - continuous - mm - with meat in shell\n",
    "\n",
    "`Whole weight` - continuous - grams - whole abalone\n",
    "\n",
    "`Shucked weight` - continuous - grams - weight of meat\n",
    "\n",
    "`Viscera weight` - continuous - grams - gut weight (after bleeding)\n",
    "\n",
    "`Shell weight` - continuous - grams - after being dried \n",
    "\n",
    "`Rings` - integer -  +1.5 gives the age in years (target)"
   ]
  },
  {
   "cell_type": "markdown",
   "id": "bf7172b3",
   "metadata": {},
   "source": [
    "Итак, целевым атрибутом в наших данных является `Rings`. Он указывает на прогнозируемый возраст морского ушка."
   ]
  },
  {
   "cell_type": "markdown",
   "id": "879ab142",
   "metadata": {},
   "source": [
    "# Анализ данных"
   ]
  },
  {
   "cell_type": "code",
   "execution_count": 72,
   "id": "93afceb3",
   "metadata": {},
   "outputs": [
    {
     "data": {
      "text/html": [
       "<div>\n",
       "<style scoped>\n",
       "    .dataframe tbody tr th:only-of-type {\n",
       "        vertical-align: middle;\n",
       "    }\n",
       "\n",
       "    .dataframe tbody tr th {\n",
       "        vertical-align: top;\n",
       "    }\n",
       "\n",
       "    .dataframe thead th {\n",
       "        text-align: right;\n",
       "    }\n",
       "</style>\n",
       "<table border=\"1\" class=\"dataframe\">\n",
       "  <thead>\n",
       "    <tr style=\"text-align: right;\">\n",
       "      <th></th>\n",
       "      <th>Sex</th>\n",
       "      <th>Length</th>\n",
       "      <th>Diameter</th>\n",
       "      <th>Height</th>\n",
       "      <th>Whole weight</th>\n",
       "      <th>Shucked weight</th>\n",
       "      <th>Viscera weight</th>\n",
       "      <th>Shell weight</th>\n",
       "      <th>Rings</th>\n",
       "    </tr>\n",
       "  </thead>\n",
       "  <tbody>\n",
       "    <tr>\n",
       "      <th>0</th>\n",
       "      <td>M</td>\n",
       "      <td>0.455</td>\n",
       "      <td>0.365</td>\n",
       "      <td>0.095</td>\n",
       "      <td>0.5140</td>\n",
       "      <td>0.2245</td>\n",
       "      <td>0.1010</td>\n",
       "      <td>0.150</td>\n",
       "      <td>15</td>\n",
       "    </tr>\n",
       "    <tr>\n",
       "      <th>1</th>\n",
       "      <td>M</td>\n",
       "      <td>0.350</td>\n",
       "      <td>0.265</td>\n",
       "      <td>0.090</td>\n",
       "      <td>0.2255</td>\n",
       "      <td>0.0995</td>\n",
       "      <td>0.0485</td>\n",
       "      <td>0.070</td>\n",
       "      <td>7</td>\n",
       "    </tr>\n",
       "    <tr>\n",
       "      <th>2</th>\n",
       "      <td>F</td>\n",
       "      <td>0.530</td>\n",
       "      <td>0.420</td>\n",
       "      <td>0.135</td>\n",
       "      <td>0.6770</td>\n",
       "      <td>0.2565</td>\n",
       "      <td>0.1415</td>\n",
       "      <td>0.210</td>\n",
       "      <td>9</td>\n",
       "    </tr>\n",
       "    <tr>\n",
       "      <th>3</th>\n",
       "      <td>M</td>\n",
       "      <td>0.440</td>\n",
       "      <td>0.365</td>\n",
       "      <td>0.125</td>\n",
       "      <td>NaN</td>\n",
       "      <td>0.2155</td>\n",
       "      <td>0.1140</td>\n",
       "      <td>0.155</td>\n",
       "      <td>10</td>\n",
       "    </tr>\n",
       "    <tr>\n",
       "      <th>4</th>\n",
       "      <td>I</td>\n",
       "      <td>0.330</td>\n",
       "      <td>0.255</td>\n",
       "      <td>0.080</td>\n",
       "      <td>0.2050</td>\n",
       "      <td>0.0895</td>\n",
       "      <td>0.0395</td>\n",
       "      <td>0.055</td>\n",
       "      <td>7</td>\n",
       "    </tr>\n",
       "  </tbody>\n",
       "</table>\n",
       "</div>"
      ],
      "text/plain": [
       "  Sex  Length  Diameter  Height  Whole weight  Shucked weight  Viscera weight  \\\n",
       "0   M   0.455     0.365   0.095        0.5140          0.2245          0.1010   \n",
       "1   M   0.350     0.265   0.090        0.2255          0.0995          0.0485   \n",
       "2   F   0.530     0.420   0.135        0.6770          0.2565          0.1415   \n",
       "3   M   0.440     0.365   0.125           NaN          0.2155          0.1140   \n",
       "4   I   0.330     0.255   0.080        0.2050          0.0895          0.0395   \n",
       "\n",
       "   Shell weight  Rings  \n",
       "0         0.150     15  \n",
       "1         0.070      7  \n",
       "2         0.210      9  \n",
       "3         0.155     10  \n",
       "4         0.055      7  "
      ]
     },
     "execution_count": 72,
     "metadata": {},
     "output_type": "execute_result"
    }
   ],
   "source": [
    "df.head(5)"
   ]
  },
  {
   "cell_type": "code",
   "execution_count": 73,
   "id": "2afab5a8",
   "metadata": {},
   "outputs": [
    {
     "name": "stdout",
     "output_type": "stream",
     "text": [
      "Размер датасета составляет 4177 строк, 9 столбцов.\n"
     ]
    }
   ],
   "source": [
    "print(f'Размер датасета составляет {df.shape[0]} строк, {df.shape[1]} столбцов.')"
   ]
  },
  {
   "cell_type": "markdown",
   "id": "1b868658",
   "metadata": {},
   "source": [
    "Проверим типы каждого атрибута в данных."
   ]
  },
  {
   "cell_type": "code",
   "execution_count": 74,
   "id": "1a819b95",
   "metadata": {},
   "outputs": [
    {
     "name": "stdout",
     "output_type": "stream",
     "text": [
      "<class 'pandas.core.frame.DataFrame'>\n",
      "RangeIndex: 4177 entries, 0 to 4176\n",
      "Data columns (total 9 columns):\n",
      " #   Column          Non-Null Count  Dtype  \n",
      "---  ------          --------------  -----  \n",
      " 0   Sex             4177 non-null   object \n",
      " 1   Length          4177 non-null   float64\n",
      " 2   Diameter        4078 non-null   float64\n",
      " 3   Height          4177 non-null   float64\n",
      " 4   Whole weight    4078 non-null   float64\n",
      " 5   Shucked weight  4177 non-null   float64\n",
      " 6   Viscera weight  4177 non-null   float64\n",
      " 7   Shell weight    4127 non-null   float64\n",
      " 8   Rings           4177 non-null   int64  \n",
      "dtypes: float64(7), int64(1), object(1)\n",
      "memory usage: 293.8+ KB\n"
     ]
    }
   ],
   "source": [
    "df.info()"
   ]
  },
  {
   "cell_type": "markdown",
   "id": "d66a887a",
   "metadata": {},
   "source": [
    "В `Diameter`, `Shell weight ` и `Whole weight` есть пропущенные значения."
   ]
  },
  {
   "cell_type": "markdown",
   "id": "1ca9bfe5",
   "metadata": {},
   "source": [
    "Выведим медиану по столбцу `Diameter`"
   ]
  },
  {
   "cell_type": "code",
   "execution_count": 75,
   "id": "8a33ff57",
   "metadata": {},
   "outputs": [
    {
     "data": {
      "text/plain": [
       "0.425"
      ]
     },
     "execution_count": 75,
     "metadata": {},
     "output_type": "execute_result"
    }
   ],
   "source": [
    "median_diameter = df[~df['Diameter'].isnull()]['Diameter'].median()\n",
    "median_diameter"
   ]
  },
  {
   "cell_type": "markdown",
   "id": "2df90bc4",
   "metadata": {},
   "source": [
    "Заменим пустые значения `Diameter` медианой"
   ]
  },
  {
   "cell_type": "code",
   "execution_count": 76,
   "id": "56cb8638",
   "metadata": {},
   "outputs": [],
   "source": [
    "df['Diameter'].fillna(median_diameter, inplace=True)"
   ]
  },
  {
   "cell_type": "markdown",
   "id": "50c72de9",
   "metadata": {},
   "source": [
    "Остальные сделаем по аналогии"
   ]
  },
  {
   "cell_type": "code",
   "execution_count": 77,
   "id": "ac50803c",
   "metadata": {},
   "outputs": [
    {
     "data": {
      "text/plain": [
       "0.7985"
      ]
     },
     "execution_count": 77,
     "metadata": {},
     "output_type": "execute_result"
    }
   ],
   "source": [
    "median_Whole_weight = df[~df['Whole weight'].isnull()]['Whole weight'].median()\n",
    "median_Whole_weight"
   ]
  },
  {
   "cell_type": "code",
   "execution_count": 78,
   "id": "60e56eb9",
   "metadata": {},
   "outputs": [],
   "source": [
    "df['Whole weight'].fillna(median_Whole_weight, inplace=True)"
   ]
  },
  {
   "cell_type": "code",
   "execution_count": 79,
   "id": "cc5b0c77",
   "metadata": {},
   "outputs": [],
   "source": [
    "median_Shell_weight = df[~df['Shell weight'].isnull()]['Shell weight'].median()\n",
    "df['Shell weight'].fillna(median_Shell_weight, inplace=True)"
   ]
  },
  {
   "cell_type": "markdown",
   "id": "bb514496",
   "metadata": {},
   "source": [
    "Проверим, что пропущенных значений не осталось"
   ]
  },
  {
   "cell_type": "code",
   "execution_count": 80,
   "id": "5f7b8da9",
   "metadata": {},
   "outputs": [
    {
     "name": "stdout",
     "output_type": "stream",
     "text": [
      "<class 'pandas.core.frame.DataFrame'>\n",
      "RangeIndex: 4177 entries, 0 to 4176\n",
      "Data columns (total 9 columns):\n",
      " #   Column          Non-Null Count  Dtype  \n",
      "---  ------          --------------  -----  \n",
      " 0   Sex             4177 non-null   object \n",
      " 1   Length          4177 non-null   float64\n",
      " 2   Diameter        4177 non-null   float64\n",
      " 3   Height          4177 non-null   float64\n",
      " 4   Whole weight    4177 non-null   float64\n",
      " 5   Shucked weight  4177 non-null   float64\n",
      " 6   Viscera weight  4177 non-null   float64\n",
      " 7   Shell weight    4177 non-null   float64\n",
      " 8   Rings           4177 non-null   int64  \n",
      "dtypes: float64(7), int64(1), object(1)\n",
      "memory usage: 293.8+ KB\n"
     ]
    }
   ],
   "source": [
    "df.info()"
   ]
  },
  {
   "cell_type": "markdown",
   "id": "6e1b60fd",
   "metadata": {},
   "source": [
    "Проверим на дубли"
   ]
  },
  {
   "cell_type": "code",
   "execution_count": 13,
   "id": "167bd03c",
   "metadata": {},
   "outputs": [
    {
     "data": {
      "text/html": [
       "<div>\n",
       "<style scoped>\n",
       "    .dataframe tbody tr th:only-of-type {\n",
       "        vertical-align: middle;\n",
       "    }\n",
       "\n",
       "    .dataframe tbody tr th {\n",
       "        vertical-align: top;\n",
       "    }\n",
       "\n",
       "    .dataframe thead th {\n",
       "        text-align: right;\n",
       "    }\n",
       "</style>\n",
       "<table border=\"1\" class=\"dataframe\">\n",
       "  <thead>\n",
       "    <tr style=\"text-align: right;\">\n",
       "      <th></th>\n",
       "      <th>Sex</th>\n",
       "      <th>Length</th>\n",
       "      <th>Diameter</th>\n",
       "      <th>Height</th>\n",
       "      <th>Whole weight</th>\n",
       "      <th>Shucked weight</th>\n",
       "      <th>Viscera weight</th>\n",
       "      <th>Shell weight</th>\n",
       "      <th>Rings</th>\n",
       "    </tr>\n",
       "  </thead>\n",
       "  <tbody>\n",
       "  </tbody>\n",
       "</table>\n",
       "</div>"
      ],
      "text/plain": [
       "Empty DataFrame\n",
       "Columns: [Sex, Length, Diameter, Height, Whole weight, Shucked weight, Viscera weight, Shell weight, Rings]\n",
       "Index: []"
      ]
     },
     "execution_count": 13,
     "metadata": {},
     "output_type": "execute_result"
    }
   ],
   "source": [
    "df[df.duplicated()]"
   ]
  },
  {
   "cell_type": "markdown",
   "id": "bcf36e1a",
   "metadata": {},
   "source": [
    "Посмотрим гистрограммы"
   ]
  },
  {
   "cell_type": "code",
   "execution_count": 49,
   "id": "1f52340b",
   "metadata": {},
   "outputs": [
    {
     "data": {
      "image/png": "[encoded data removed]",
      "text/plain": [
       "<Figure size 432x360 with 1 Axes>"
      ]
     },
     "metadata": {
      "needs_background": "light"
     },
     "output_type": "display_data"
    }
   ],
   "source": [
    "plt.figure(figsize=(6,5))\n",
    "\n",
    "plt.hist(df.Sex);"
   ]
  },
  {
   "cell_type": "markdown",
   "id": "e2be8911",
   "metadata": {},
   "source": [
    "Мы знаем, что в `Sex` должно быть 3 номинала. По всей видимости \"f\" необходимо поменять на \"F\", чтобы было корректно. Сделаем это."
   ]
  },
  {
   "cell_type": "code",
   "execution_count": 81,
   "id": "62c31706",
   "metadata": {},
   "outputs": [],
   "source": [
    "df.loc[df['Sex'] == 'f', 'Sex'] = 'F'"
   ]
  },
  {
   "cell_type": "code",
   "execution_count": 55,
   "id": "85a06675",
   "metadata": {},
   "outputs": [
    {
     "data": {
      "image/png": "[encoded data removed]",
      "text/plain": [
       "<Figure size 432x360 with 1 Axes>"
      ]
     },
     "metadata": {
      "needs_background": "light"
     },
     "output_type": "display_data"
    }
   ],
   "source": [
    "plt.figure(figsize=(6,5))\n",
    "\n",
    "plt.hist(df.Sex);"
   ]
  },
  {
   "cell_type": "code",
   "execution_count": 56,
   "id": "a2b18be3",
   "metadata": {},
   "outputs": [
    {
     "data": {
      "image/png": "[encoded data removed]",
      "text/plain": [
       "<Figure size 432x360 with 1 Axes>"
      ]
     },
     "metadata": {
      "needs_background": "light"
     },
     "output_type": "display_data"
    }
   ],
   "source": [
    "plt.figure(figsize=(6,5))\n",
    "\n",
    "plt.hist(df.Length);"
   ]
  },
  {
   "cell_type": "code",
   "execution_count": 57,
   "id": "93f25226",
   "metadata": {},
   "outputs": [
    {
     "data": {
      "image/png": "[encoded data removed]",
      "text/plain": [
       "<Figure size 432x360 with 1 Axes>"
      ]
     },
     "metadata": {
      "needs_background": "light"
     },
     "output_type": "display_data"
    }
   ],
   "source": [
    "plt.figure(figsize=(6,5))\n",
    "\n",
    "plt.hist(df.Diameter);"
   ]
  },
  {
   "cell_type": "code",
   "execution_count": 58,
   "id": "8db56655",
   "metadata": {},
   "outputs": [
    {
     "data": {
      "image/png": "[encoded data removed]",
      "text/plain": [
       "<Figure size 432x360 with 1 Axes>"
      ]
     },
     "metadata": {
      "needs_background": "light"
     },
     "output_type": "display_data"
    }
   ],
   "source": [
    "plt.figure(figsize=(6,5))\n",
    "\n",
    "plt.hist(df.Height);"
   ]
  },
  {
   "cell_type": "markdown",
   "id": "3903ae56",
   "metadata": {},
   "source": [
    "По высоте модой является значение около 0.2. Таких значений порядка 3 тыс."
   ]
  },
  {
   "cell_type": "code",
   "execution_count": 59,
   "id": "56c8d0fc",
   "metadata": {},
   "outputs": [
    {
     "data": {
      "image/png": "[encoded data removed]",
      "text/plain": [
       "<Figure size 432x360 with 1 Axes>"
      ]
     },
     "metadata": {
      "needs_background": "light"
     },
     "output_type": "display_data"
    }
   ],
   "source": [
    "plt.figure(figsize=(6,5))\n",
    "\n",
    "plt.hist(df['Whole weight']);"
   ]
  },
  {
   "cell_type": "code",
   "execution_count": 60,
   "id": "8c3d3d86",
   "metadata": {},
   "outputs": [
    {
     "data": {
      "image/png": "[encoded data removed]",
      "text/plain": [
       "<Figure size 432x360 with 1 Axes>"
      ]
     },
     "metadata": {
      "needs_background": "light"
     },
     "output_type": "display_data"
    }
   ],
   "source": [
    "plt.figure(figsize=(6,5))\n",
    "\n",
    "plt.hist(df['Shucked weight']);"
   ]
  },
  {
   "cell_type": "code",
   "execution_count": 61,
   "id": "c0aa95cf",
   "metadata": {},
   "outputs": [
    {
     "data": {
      "image/png": "[encoded data removed]",
      "text/plain": [
       "<Figure size 432x360 with 1 Axes>"
      ]
     },
     "metadata": {
      "needs_background": "light"
     },
     "output_type": "display_data"
    }
   ],
   "source": [
    "plt.figure(figsize=(6,5))\n",
    "\n",
    "plt.hist(df['Viscera weight']);"
   ]
  },
  {
   "cell_type": "code",
   "execution_count": 62,
   "id": "24aa0d8f",
   "metadata": {},
   "outputs": [
    {
     "data": {
      "image/png": "[encoded data removed]",
      "text/plain": [
       "<Figure size 432x360 with 1 Axes>"
      ]
     },
     "metadata": {
      "needs_background": "light"
     },
     "output_type": "display_data"
    }
   ],
   "source": [
    "plt.figure(figsize=(6,5))\n",
    "\n",
    "plt.hist(df['Shell weight']);"
   ]
  },
  {
   "cell_type": "markdown",
   "id": "da1f06cf",
   "metadata": {},
   "source": [
    "Можно отметить, что чем больше атрибут, который связан с weight, тем меньше вероятность встретить морское ушко в нашей выборке."
   ]
  },
  {
   "cell_type": "code",
   "execution_count": 63,
   "id": "c0a90887",
   "metadata": {},
   "outputs": [
    {
     "data": {
      "image/png": "[encoded data removed]",
      "text/plain": [
       "<Figure size 432x360 with 1 Axes>"
      ]
     },
     "metadata": {
      "needs_background": "light"
     },
     "output_type": "display_data"
    }
   ],
   "source": [
    "plt.figure(figsize=(6,5))\n",
    "\n",
    "plt.hist(df['Rings']);"
   ]
  },
  {
   "cell_type": "markdown",
   "id": "d5b4fb04",
   "metadata": {},
   "source": [
    "Прочитав описание датасета более подробно, пришел к выводу, что атрибут `Rings` необходим для подсчета возраста морского ушка. Возраст равен значению `Rings` + 1.5. Попробуем вывести возраст морского ушка. "
   ]
  },
  {
   "cell_type": "code",
   "execution_count": 82,
   "id": "a37a766e",
   "metadata": {},
   "outputs": [
    {
     "data": {
      "text/html": [
       "<div>\n",
       "<style scoped>\n",
       "    .dataframe tbody tr th:only-of-type {\n",
       "        vertical-align: middle;\n",
       "    }\n",
       "\n",
       "    .dataframe tbody tr th {\n",
       "        vertical-align: top;\n",
       "    }\n",
       "\n",
       "    .dataframe thead th {\n",
       "        text-align: right;\n",
       "    }\n",
       "</style>\n",
       "<table border=\"1\" class=\"dataframe\">\n",
       "  <thead>\n",
       "    <tr style=\"text-align: right;\">\n",
       "      <th></th>\n",
       "      <th>Sex</th>\n",
       "      <th>Length</th>\n",
       "      <th>Diameter</th>\n",
       "      <th>Height</th>\n",
       "      <th>Whole weight</th>\n",
       "      <th>Shucked weight</th>\n",
       "      <th>Viscera weight</th>\n",
       "      <th>Shell weight</th>\n",
       "      <th>Rings</th>\n",
       "      <th>Age</th>\n",
       "    </tr>\n",
       "  </thead>\n",
       "  <tbody>\n",
       "    <tr>\n",
       "      <th>0</th>\n",
       "      <td>M</td>\n",
       "      <td>0.455</td>\n",
       "      <td>0.365</td>\n",
       "      <td>0.095</td>\n",
       "      <td>0.5140</td>\n",
       "      <td>0.2245</td>\n",
       "      <td>0.1010</td>\n",
       "      <td>0.150</td>\n",
       "      <td>15</td>\n",
       "      <td>16.5</td>\n",
       "    </tr>\n",
       "    <tr>\n",
       "      <th>1</th>\n",
       "      <td>M</td>\n",
       "      <td>0.350</td>\n",
       "      <td>0.265</td>\n",
       "      <td>0.090</td>\n",
       "      <td>0.2255</td>\n",
       "      <td>0.0995</td>\n",
       "      <td>0.0485</td>\n",
       "      <td>0.070</td>\n",
       "      <td>7</td>\n",
       "      <td>8.5</td>\n",
       "    </tr>\n",
       "    <tr>\n",
       "      <th>2</th>\n",
       "      <td>F</td>\n",
       "      <td>0.530</td>\n",
       "      <td>0.420</td>\n",
       "      <td>0.135</td>\n",
       "      <td>0.6770</td>\n",
       "      <td>0.2565</td>\n",
       "      <td>0.1415</td>\n",
       "      <td>0.210</td>\n",
       "      <td>9</td>\n",
       "      <td>10.5</td>\n",
       "    </tr>\n",
       "    <tr>\n",
       "      <th>3</th>\n",
       "      <td>M</td>\n",
       "      <td>0.440</td>\n",
       "      <td>0.365</td>\n",
       "      <td>0.125</td>\n",
       "      <td>0.7985</td>\n",
       "      <td>0.2155</td>\n",
       "      <td>0.1140</td>\n",
       "      <td>0.155</td>\n",
       "      <td>10</td>\n",
       "      <td>11.5</td>\n",
       "    </tr>\n",
       "    <tr>\n",
       "      <th>4</th>\n",
       "      <td>I</td>\n",
       "      <td>0.330</td>\n",
       "      <td>0.255</td>\n",
       "      <td>0.080</td>\n",
       "      <td>0.2050</td>\n",
       "      <td>0.0895</td>\n",
       "      <td>0.0395</td>\n",
       "      <td>0.055</td>\n",
       "      <td>7</td>\n",
       "      <td>8.5</td>\n",
       "    </tr>\n",
       "  </tbody>\n",
       "</table>\n",
       "</div>"
      ],
      "text/plain": [
       "  Sex  Length  Diameter  Height  Whole weight  Shucked weight  Viscera weight  \\\n",
       "0   M   0.455     0.365   0.095        0.5140          0.2245          0.1010   \n",
       "1   M   0.350     0.265   0.090        0.2255          0.0995          0.0485   \n",
       "2   F   0.530     0.420   0.135        0.6770          0.2565          0.1415   \n",
       "3   M   0.440     0.365   0.125        0.7985          0.2155          0.1140   \n",
       "4   I   0.330     0.255   0.080        0.2050          0.0895          0.0395   \n",
       "\n",
       "   Shell weight  Rings   Age  \n",
       "0         0.150     15  16.5  \n",
       "1         0.070      7   8.5  \n",
       "2         0.210      9  10.5  \n",
       "3         0.155     10  11.5  \n",
       "4         0.055      7   8.5  "
      ]
     },
     "execution_count": 82,
     "metadata": {},
     "output_type": "execute_result"
    }
   ],
   "source": [
    "df['Age'] = df['Rings'] + 1.5\n",
    "df.head(5)"
   ]
  },
  {
   "cell_type": "code",
   "execution_count": 66,
   "id": "22013b5f",
   "metadata": {},
   "outputs": [
    {
     "data": {
      "image/png": "[encoded data removed]",
      "text/plain": [
       "<Figure size 432x360 with 1 Axes>"
      ]
     },
     "metadata": {
      "needs_background": "light"
     },
     "output_type": "display_data"
    }
   ],
   "source": [
    "plt.figure(figsize=(6,5))\n",
    "\n",
    "plt.hist(df['Age']);"
   ]
  },
  {
   "cell_type": "markdown",
   "id": "14517c55",
   "metadata": {},
   "source": [
    "Модой возвраста судя по графику является возвраст 10 лет. Встречается порядка 1600 раз."
   ]
  },
  {
   "cell_type": "markdown",
   "id": "99f545e0",
   "metadata": {},
   "source": [
    "Считаю, что атрибут `Rings` можно удалить."
   ]
  },
  {
   "cell_type": "code",
   "execution_count": 83,
   "id": "68f26f12",
   "metadata": {},
   "outputs": [
    {
     "data": {
      "text/html": [
       "<div>\n",
       "<style scoped>\n",
       "    .dataframe tbody tr th:only-of-type {\n",
       "        vertical-align: middle;\n",
       "    }\n",
       "\n",
       "    .dataframe tbody tr th {\n",
       "        vertical-align: top;\n",
       "    }\n",
       "\n",
       "    .dataframe thead th {\n",
       "        text-align: right;\n",
       "    }\n",
       "</style>\n",
       "<table border=\"1\" class=\"dataframe\">\n",
       "  <thead>\n",
       "    <tr style=\"text-align: right;\">\n",
       "      <th></th>\n",
       "      <th>Sex</th>\n",
       "      <th>Length</th>\n",
       "      <th>Diameter</th>\n",
       "      <th>Height</th>\n",
       "      <th>Whole weight</th>\n",
       "      <th>Shucked weight</th>\n",
       "      <th>Viscera weight</th>\n",
       "      <th>Shell weight</th>\n",
       "      <th>Age</th>\n",
       "    </tr>\n",
       "  </thead>\n",
       "  <tbody>\n",
       "    <tr>\n",
       "      <th>0</th>\n",
       "      <td>M</td>\n",
       "      <td>0.455</td>\n",
       "      <td>0.365</td>\n",
       "      <td>0.095</td>\n",
       "      <td>0.5140</td>\n",
       "      <td>0.2245</td>\n",
       "      <td>0.1010</td>\n",
       "      <td>0.150</td>\n",
       "      <td>16.5</td>\n",
       "    </tr>\n",
       "    <tr>\n",
       "      <th>1</th>\n",
       "      <td>M</td>\n",
       "      <td>0.350</td>\n",
       "      <td>0.265</td>\n",
       "      <td>0.090</td>\n",
       "      <td>0.2255</td>\n",
       "      <td>0.0995</td>\n",
       "      <td>0.0485</td>\n",
       "      <td>0.070</td>\n",
       "      <td>8.5</td>\n",
       "    </tr>\n",
       "    <tr>\n",
       "      <th>2</th>\n",
       "      <td>F</td>\n",
       "      <td>0.530</td>\n",
       "      <td>0.420</td>\n",
       "      <td>0.135</td>\n",
       "      <td>0.6770</td>\n",
       "      <td>0.2565</td>\n",
       "      <td>0.1415</td>\n",
       "      <td>0.210</td>\n",
       "      <td>10.5</td>\n",
       "    </tr>\n",
       "    <tr>\n",
       "      <th>3</th>\n",
       "      <td>M</td>\n",
       "      <td>0.440</td>\n",
       "      <td>0.365</td>\n",
       "      <td>0.125</td>\n",
       "      <td>0.7985</td>\n",
       "      <td>0.2155</td>\n",
       "      <td>0.1140</td>\n",
       "      <td>0.155</td>\n",
       "      <td>11.5</td>\n",
       "    </tr>\n",
       "    <tr>\n",
       "      <th>4</th>\n",
       "      <td>I</td>\n",
       "      <td>0.330</td>\n",
       "      <td>0.255</td>\n",
       "      <td>0.080</td>\n",
       "      <td>0.2050</td>\n",
       "      <td>0.0895</td>\n",
       "      <td>0.0395</td>\n",
       "      <td>0.055</td>\n",
       "      <td>8.5</td>\n",
       "    </tr>\n",
       "  </tbody>\n",
       "</table>\n",
       "</div>"
      ],
      "text/plain": [
       "  Sex  Length  Diameter  Height  Whole weight  Shucked weight  Viscera weight  \\\n",
       "0   M   0.455     0.365   0.095        0.5140          0.2245          0.1010   \n",
       "1   M   0.350     0.265   0.090        0.2255          0.0995          0.0485   \n",
       "2   F   0.530     0.420   0.135        0.6770          0.2565          0.1415   \n",
       "3   M   0.440     0.365   0.125        0.7985          0.2155          0.1140   \n",
       "4   I   0.330     0.255   0.080        0.2050          0.0895          0.0395   \n",
       "\n",
       "   Shell weight   Age  \n",
       "0         0.150  16.5  \n",
       "1         0.070   8.5  \n",
       "2         0.210  10.5  \n",
       "3         0.155  11.5  \n",
       "4         0.055   8.5  "
      ]
     },
     "execution_count": 83,
     "metadata": {},
     "output_type": "execute_result"
    }
   ],
   "source": [
    "df = df.drop('Rings', axis=1)\n",
    "df.head(5)"
   ]
  },
  {
   "cell_type": "markdown",
   "id": "e95fc862",
   "metadata": {},
   "source": [
    "Теперь будем считать, что целевой атрибут будет `Age`"
   ]
  },
  {
   "cell_type": "code",
   "execution_count": 84,
   "id": "514c4087",
   "metadata": {},
   "outputs": [
    {
     "data": {
      "text/html": [
       "<div>\n",
       "<style scoped>\n",
       "    .dataframe tbody tr th:only-of-type {\n",
       "        vertical-align: middle;\n",
       "    }\n",
       "\n",
       "    .dataframe tbody tr th {\n",
       "        vertical-align: top;\n",
       "    }\n",
       "\n",
       "    .dataframe thead th {\n",
       "        text-align: right;\n",
       "    }\n",
       "</style>\n",
       "<table border=\"1\" class=\"dataframe\">\n",
       "  <thead>\n",
       "    <tr style=\"text-align: right;\">\n",
       "      <th></th>\n",
       "      <th>Length</th>\n",
       "      <th>Diameter</th>\n",
       "      <th>Height</th>\n",
       "      <th>Whole weight</th>\n",
       "      <th>Shucked weight</th>\n",
       "      <th>Viscera weight</th>\n",
       "      <th>Shell weight</th>\n",
       "      <th>Age</th>\n",
       "    </tr>\n",
       "  </thead>\n",
       "  <tbody>\n",
       "    <tr>\n",
       "      <th>count</th>\n",
       "      <td>4177.000000</td>\n",
       "      <td>4177.000000</td>\n",
       "      <td>4177.000000</td>\n",
       "      <td>4177.000000</td>\n",
       "      <td>4177.000000</td>\n",
       "      <td>4177.000000</td>\n",
       "      <td>4177.000000</td>\n",
       "      <td>4177.000000</td>\n",
       "    </tr>\n",
       "    <tr>\n",
       "      <th>mean</th>\n",
       "      <td>0.523992</td>\n",
       "      <td>0.408246</td>\n",
       "      <td>0.139516</td>\n",
       "      <td>0.826623</td>\n",
       "      <td>0.359367</td>\n",
       "      <td>0.180594</td>\n",
       "      <td>0.239023</td>\n",
       "      <td>11.433684</td>\n",
       "    </tr>\n",
       "    <tr>\n",
       "      <th>std</th>\n",
       "      <td>0.120093</td>\n",
       "      <td>0.098137</td>\n",
       "      <td>0.041827</td>\n",
       "      <td>0.484521</td>\n",
       "      <td>0.221963</td>\n",
       "      <td>0.109614</td>\n",
       "      <td>0.138108</td>\n",
       "      <td>3.224169</td>\n",
       "    </tr>\n",
       "    <tr>\n",
       "      <th>min</th>\n",
       "      <td>0.075000</td>\n",
       "      <td>0.055000</td>\n",
       "      <td>0.000000</td>\n",
       "      <td>0.002000</td>\n",
       "      <td>0.001000</td>\n",
       "      <td>0.000500</td>\n",
       "      <td>0.001500</td>\n",
       "      <td>2.500000</td>\n",
       "    </tr>\n",
       "    <tr>\n",
       "      <th>25%</th>\n",
       "      <td>0.450000</td>\n",
       "      <td>0.350000</td>\n",
       "      <td>0.115000</td>\n",
       "      <td>0.447500</td>\n",
       "      <td>0.186000</td>\n",
       "      <td>0.093500</td>\n",
       "      <td>0.131500</td>\n",
       "      <td>9.500000</td>\n",
       "    </tr>\n",
       "    <tr>\n",
       "      <th>50%</th>\n",
       "      <td>0.545000</td>\n",
       "      <td>0.425000</td>\n",
       "      <td>0.140000</td>\n",
       "      <td>0.798500</td>\n",
       "      <td>0.336000</td>\n",
       "      <td>0.171000</td>\n",
       "      <td>0.235000</td>\n",
       "      <td>10.500000</td>\n",
       "    </tr>\n",
       "    <tr>\n",
       "      <th>75%</th>\n",
       "      <td>0.615000</td>\n",
       "      <td>0.480000</td>\n",
       "      <td>0.165000</td>\n",
       "      <td>1.141500</td>\n",
       "      <td>0.502000</td>\n",
       "      <td>0.253000</td>\n",
       "      <td>0.325000</td>\n",
       "      <td>12.500000</td>\n",
       "    </tr>\n",
       "    <tr>\n",
       "      <th>max</th>\n",
       "      <td>0.815000</td>\n",
       "      <td>0.650000</td>\n",
       "      <td>1.130000</td>\n",
       "      <td>2.825500</td>\n",
       "      <td>1.488000</td>\n",
       "      <td>0.760000</td>\n",
       "      <td>1.005000</td>\n",
       "      <td>30.500000</td>\n",
       "    </tr>\n",
       "  </tbody>\n",
       "</table>\n",
       "</div>"
      ],
      "text/plain": [
       "            Length     Diameter       Height  Whole weight  Shucked weight  \\\n",
       "count  4177.000000  4177.000000  4177.000000   4177.000000     4177.000000   \n",
       "mean      0.523992     0.408246     0.139516      0.826623        0.359367   \n",
       "std       0.120093     0.098137     0.041827      0.484521        0.221963   \n",
       "min       0.075000     0.055000     0.000000      0.002000        0.001000   \n",
       "25%       0.450000     0.350000     0.115000      0.447500        0.186000   \n",
       "50%       0.545000     0.425000     0.140000      0.798500        0.336000   \n",
       "75%       0.615000     0.480000     0.165000      1.141500        0.502000   \n",
       "max       0.815000     0.650000     1.130000      2.825500        1.488000   \n",
       "\n",
       "       Viscera weight  Shell weight          Age  \n",
       "count     4177.000000   4177.000000  4177.000000  \n",
       "mean         0.180594      0.239023    11.433684  \n",
       "std          0.109614      0.138108     3.224169  \n",
       "min          0.000500      0.001500     2.500000  \n",
       "25%          0.093500      0.131500     9.500000  \n",
       "50%          0.171000      0.235000    10.500000  \n",
       "75%          0.253000      0.325000    12.500000  \n",
       "max          0.760000      1.005000    30.500000  "
      ]
     },
     "execution_count": 84,
     "metadata": {},
     "output_type": "execute_result"
    }
   ],
   "source": [
    "df.describe()"
   ]
  },
  {
   "cell_type": "code",
   "execution_count": 85,
   "id": "dd4a93e7",
   "metadata": {},
   "outputs": [
    {
     "data": {
      "text/html": [
       "<div>\n",
       "<style scoped>\n",
       "    .dataframe tbody tr th:only-of-type {\n",
       "        vertical-align: middle;\n",
       "    }\n",
       "\n",
       "    .dataframe tbody tr th {\n",
       "        vertical-align: top;\n",
       "    }\n",
       "\n",
       "    .dataframe thead th {\n",
       "        text-align: right;\n",
       "    }\n",
       "</style>\n",
       "<table border=\"1\" class=\"dataframe\">\n",
       "  <thead>\n",
       "    <tr style=\"text-align: right;\">\n",
       "      <th></th>\n",
       "      <th>Sex</th>\n",
       "    </tr>\n",
       "  </thead>\n",
       "  <tbody>\n",
       "    <tr>\n",
       "      <th>count</th>\n",
       "      <td>4177</td>\n",
       "    </tr>\n",
       "    <tr>\n",
       "      <th>unique</th>\n",
       "      <td>3</td>\n",
       "    </tr>\n",
       "    <tr>\n",
       "      <th>top</th>\n",
       "      <td>F</td>\n",
       "    </tr>\n",
       "    <tr>\n",
       "      <th>freq</th>\n",
       "      <td>1454</td>\n",
       "    </tr>\n",
       "  </tbody>\n",
       "</table>\n",
       "</div>"
      ],
      "text/plain": [
       "         Sex\n",
       "count   4177\n",
       "unique     3\n",
       "top        F\n",
       "freq    1454"
      ]
     },
     "execution_count": 85,
     "metadata": {},
     "output_type": "execute_result"
    }
   ],
   "source": [
    "df.describe(include='object')"
   ]
  },
  {
   "cell_type": "markdown",
   "id": "832466c8",
   "metadata": {},
   "source": [
    "Посмотрим на распределение `Age`"
   ]
  },
  {
   "cell_type": "code",
   "execution_count": 86,
   "id": "8857e6ac",
   "metadata": {},
   "outputs": [
    {
     "data": {
      "text/plain": [
       "<AxesSubplot:xlabel='Age', ylabel='Count'>"
      ]
     },
     "execution_count": 86,
     "metadata": {},
     "output_type": "execute_result"
    },
    {
     "data": {
      "image/png": "[encoded data removed]",
      "text/plain": [
       "<Figure size 432x288 with 1 Axes>"
      ]
     },
     "metadata": {
      "needs_background": "light"
     },
     "output_type": "display_data"
    }
   ],
   "source": [
    "sns.histplot(data = df['Age'], kde = True)"
   ]
  },
  {
   "cell_type": "markdown",
   "id": "2f05efd8",
   "metadata": {},
   "source": [
    "Судя по распределнию (если я правильно понимаю - нормальное распред), у нас есть хвосты, которые значительно отличаются от большинства значений. Предполагаю, это может мешать при обучении модели."
   ]
  },
  {
   "cell_type": "markdown",
   "id": "3b04e47a",
   "metadata": {},
   "source": [
    "# Взаимозависимость в данных"
   ]
  },
  {
   "cell_type": "markdown",
   "id": "2147b1eb",
   "metadata": {},
   "source": [
    "Посмотрим на корреляцию данных в нашем датасете."
   ]
  },
  {
   "cell_type": "code",
   "execution_count": 87,
   "id": "0223e55f",
   "metadata": {},
   "outputs": [
    {
     "data": {
      "text/html": [
       "<div>\n",
       "<style scoped>\n",
       "    .dataframe tbody tr th:only-of-type {\n",
       "        vertical-align: middle;\n",
       "    }\n",
       "\n",
       "    .dataframe tbody tr th {\n",
       "        vertical-align: top;\n",
       "    }\n",
       "\n",
       "    .dataframe thead th {\n",
       "        text-align: right;\n",
       "    }\n",
       "</style>\n",
       "<table border=\"1\" class=\"dataframe\">\n",
       "  <thead>\n",
       "    <tr style=\"text-align: right;\">\n",
       "      <th></th>\n",
       "      <th>Length</th>\n",
       "      <th>Diameter</th>\n",
       "      <th>Height</th>\n",
       "      <th>Whole weight</th>\n",
       "      <th>Shucked weight</th>\n",
       "      <th>Viscera weight</th>\n",
       "      <th>Shell weight</th>\n",
       "      <th>Age</th>\n",
       "    </tr>\n",
       "  </thead>\n",
       "  <tbody>\n",
       "    <tr>\n",
       "      <th>Length</th>\n",
       "      <td>1.000000</td>\n",
       "      <td>0.974693</td>\n",
       "      <td>0.827554</td>\n",
       "      <td>0.915426</td>\n",
       "      <td>0.897914</td>\n",
       "      <td>0.903018</td>\n",
       "      <td>0.889517</td>\n",
       "      <td>0.556720</td>\n",
       "    </tr>\n",
       "    <tr>\n",
       "      <th>Diameter</th>\n",
       "      <td>0.974693</td>\n",
       "      <td>1.000000</td>\n",
       "      <td>0.823014</td>\n",
       "      <td>0.906350</td>\n",
       "      <td>0.882375</td>\n",
       "      <td>0.888190</td>\n",
       "      <td>0.885752</td>\n",
       "      <td>0.563512</td>\n",
       "    </tr>\n",
       "    <tr>\n",
       "      <th>Height</th>\n",
       "      <td>0.827554</td>\n",
       "      <td>0.823014</td>\n",
       "      <td>1.000000</td>\n",
       "      <td>0.811451</td>\n",
       "      <td>0.774972</td>\n",
       "      <td>0.798319</td>\n",
       "      <td>0.809684</td>\n",
       "      <td>0.557467</td>\n",
       "    </tr>\n",
       "    <tr>\n",
       "      <th>Whole weight</th>\n",
       "      <td>0.915426</td>\n",
       "      <td>0.906350</td>\n",
       "      <td>0.811451</td>\n",
       "      <td>1.000000</td>\n",
       "      <td>0.957427</td>\n",
       "      <td>0.954036</td>\n",
       "      <td>0.934197</td>\n",
       "      <td>0.532149</td>\n",
       "    </tr>\n",
       "    <tr>\n",
       "      <th>Shucked weight</th>\n",
       "      <td>0.897914</td>\n",
       "      <td>0.882375</td>\n",
       "      <td>0.774972</td>\n",
       "      <td>0.957427</td>\n",
       "      <td>1.000000</td>\n",
       "      <td>0.931961</td>\n",
       "      <td>0.874333</td>\n",
       "      <td>0.420884</td>\n",
       "    </tr>\n",
       "    <tr>\n",
       "      <th>Viscera weight</th>\n",
       "      <td>0.903018</td>\n",
       "      <td>0.888190</td>\n",
       "      <td>0.798319</td>\n",
       "      <td>0.954036</td>\n",
       "      <td>0.931961</td>\n",
       "      <td>1.000000</td>\n",
       "      <td>0.899098</td>\n",
       "      <td>0.503819</td>\n",
       "    </tr>\n",
       "    <tr>\n",
       "      <th>Shell weight</th>\n",
       "      <td>0.889517</td>\n",
       "      <td>0.885752</td>\n",
       "      <td>0.809684</td>\n",
       "      <td>0.934197</td>\n",
       "      <td>0.874333</td>\n",
       "      <td>0.899098</td>\n",
       "      <td>1.000000</td>\n",
       "      <td>0.622194</td>\n",
       "    </tr>\n",
       "    <tr>\n",
       "      <th>Age</th>\n",
       "      <td>0.556720</td>\n",
       "      <td>0.563512</td>\n",
       "      <td>0.557467</td>\n",
       "      <td>0.532149</td>\n",
       "      <td>0.420884</td>\n",
       "      <td>0.503819</td>\n",
       "      <td>0.622194</td>\n",
       "      <td>1.000000</td>\n",
       "    </tr>\n",
       "  </tbody>\n",
       "</table>\n",
       "</div>"
      ],
      "text/plain": [
       "                  Length  Diameter    Height  Whole weight  Shucked weight  \\\n",
       "Length          1.000000  0.974693  0.827554      0.915426        0.897914   \n",
       "Diameter        0.974693  1.000000  0.823014      0.906350        0.882375   \n",
       "Height          0.827554  0.823014  1.000000      0.811451        0.774972   \n",
       "Whole weight    0.915426  0.906350  0.811451      1.000000        0.957427   \n",
       "Shucked weight  0.897914  0.882375  0.774972      0.957427        1.000000   \n",
       "Viscera weight  0.903018  0.888190  0.798319      0.954036        0.931961   \n",
       "Shell weight    0.889517  0.885752  0.809684      0.934197        0.874333   \n",
       "Age             0.556720  0.563512  0.557467      0.532149        0.420884   \n",
       "\n",
       "                Viscera weight  Shell weight       Age  \n",
       "Length                0.903018      0.889517  0.556720  \n",
       "Diameter              0.888190      0.885752  0.563512  \n",
       "Height                0.798319      0.809684  0.557467  \n",
       "Whole weight          0.954036      0.934197  0.532149  \n",
       "Shucked weight        0.931961      0.874333  0.420884  \n",
       "Viscera weight        1.000000      0.899098  0.503819  \n",
       "Shell weight          0.899098      1.000000  0.622194  \n",
       "Age                   0.503819      0.622194  1.000000  "
      ]
     },
     "execution_count": 87,
     "metadata": {},
     "output_type": "execute_result"
    },
    {
     "data": {
      "image/png": "[encoded data removed]",
      "text/plain": [
       "<Figure size 720x360 with 2 Axes>"
      ]
     },
     "metadata": {
      "needs_background": "light"
     },
     "output_type": "display_data"
    }
   ],
   "source": [
    "plt.figure(figsize=(10, 5))\n",
    "corr = df.corr()\n",
    "sns.heatmap(corr, cmap='BrBG', annot=True)\n",
    "corr"
   ]
  },
  {
   "cell_type": "markdown",
   "id": "0aa9fbbc",
   "metadata": {},
   "source": [
    "Мы видим, что почти всё между собой сильно коррелирует, кроме нашей цели."
   ]
  },
  {
   "cell_type": "markdown",
   "id": "11b6ab37",
   "metadata": {},
   "source": [
    "Посмотрим, есть ли связь между `sex` и `age`. Возьмем метод ANOVA."
   ]
  },
  {
   "cell_type": "code",
   "execution_count": 89,
   "id": "2e60b9cd",
   "metadata": {},
   "outputs": [],
   "source": [
    "from scipy.stats import f_oneway"
   ]
  },
  {
   "cell_type": "code",
   "execution_count": 90,
   "id": "3f398baf",
   "metadata": {},
   "outputs": [
    {
     "name": "stdout",
     "output_type": "stream",
     "text": [
      "P-Value for Anova is:  2.35303895865748e-182\n"
     ]
    }
   ],
   "source": [
    "CategoryGroupLists = df.groupby('Sex')['Age'].apply(list)\n",
    "AnovaResults = f_oneway(*CategoryGroupLists)\n",
    "print('P-Value for Anova is: ', AnovaResults[1])"
   ]
  },
  {
   "cell_type": "code",
   "execution_count": 92,
   "id": "c568943e",
   "metadata": {},
   "outputs": [
    {
     "name": "stdout",
     "output_type": "stream",
     "text": [
      "Features are correlated\n"
     ]
    }
   ],
   "source": [
    "if AnovaResults[1] >= 0.05:\n",
    "    print('Features are NOT correlated')\n",
    "else:\n",
    "    print('Features are correlated')"
   ]
  },
  {
   "cell_type": "markdown",
   "id": "d1b9a687",
   "metadata": {},
   "source": [
    "Можно сделать вывод, что есть связь между гендером и возврастом морского ушка."
   ]
  },
  {
   "cell_type": "markdown",
   "id": "09c6e7e9",
   "metadata": {},
   "source": [
    "# Сравнение Pandas с Polars"
   ]
  },
  {
   "cell_type": "markdown",
   "id": "6133519a",
   "metadata": {},
   "source": [
    "Увеличим наш датасет до 1_000_000 строк."
   ]
  },
  {
   "cell_type": "code",
   "execution_count": 95,
   "id": "c2640731",
   "metadata": {},
   "outputs": [],
   "source": [
    "df_big = df.copy()"
   ]
  },
  {
   "cell_type": "code",
   "execution_count": 98,
   "id": "2baa55d4",
   "metadata": {},
   "outputs": [
    {
     "data": {
      "text/plain": [
       "(1048427, 9)"
      ]
     },
     "execution_count": 98,
     "metadata": {},
     "output_type": "execute_result"
    }
   ],
   "source": [
    "for i in range(250):\n",
    "    df_big = pd.concat([df_big, df])\n",
    "\n",
    "df_big.shape"
   ]
  },
  {
   "cell_type": "code",
   "execution_count": 99,
   "id": "3802927b",
   "metadata": {},
   "outputs": [
    {
     "name": "stdout",
     "output_type": "stream",
     "text": [
      "Collecting polars\n",
      "  Downloading polars-0.19.19-cp38-abi3-win_amd64.whl (24.8 MB)\n",
      "Installing collected packages: polars\n",
      "Successfully installed polars-0.19.19\n"
     ]
    }
   ],
   "source": [
    "!pip install polars"
   ]
  },
  {
   "cell_type": "code",
   "execution_count": 100,
   "id": "6cc7a5bf",
   "metadata": {},
   "outputs": [],
   "source": [
    "import polars as pl"
   ]
  },
  {
   "cell_type": "code",
   "execution_count": 101,
   "id": "7d189beb",
   "metadata": {},
   "outputs": [],
   "source": [
    "df_big.to_csv('abalone_big_df.csv', index=False)"
   ]
  },
  {
   "cell_type": "markdown",
   "id": "8eafab19",
   "metadata": {},
   "source": [
    "Сравним время загрузки данных с помощью двух библиотек."
   ]
  },
  {
   "cell_type": "code",
   "execution_count": 103,
   "id": "e5f7338c",
   "metadata": {},
   "outputs": [
    {
     "name": "stdout",
     "output_type": "stream",
     "text": [
      "CPU times: total: 922 ms\n",
      "Wall time: 123 ms\n"
     ]
    }
   ],
   "source": [
    "%%time\n",
    "df_pl = pl.read_csv('abalone_big_df.csv')"
   ]
  },
  {
   "cell_type": "code",
   "execution_count": 105,
   "id": "0310050b",
   "metadata": {},
   "outputs": [
    {
     "name": "stdout",
     "output_type": "stream",
     "text": [
      "CPU times: total: 688 ms\n",
      "Wall time: 690 ms\n"
     ]
    }
   ],
   "source": [
    "%%time\n",
    "df_pd = pd.read_csv('abalone_big_df.csv')"
   ]
  },
  {
   "cell_type": "markdown",
   "id": "635e59b7",
   "metadata": {},
   "source": [
    "Загрузка данных у Polars быстрее."
   ]
  },
  {
   "cell_type": "code",
   "execution_count": 118,
   "id": "4e5f23e1",
   "metadata": {},
   "outputs": [
    {
     "name": "stdout",
     "output_type": "stream",
     "text": [
      "CPU times: total: 31.2 ms\n",
      "Wall time: 24.4 ms\n"
     ]
    },
    {
     "data": {
      "text/html": [
       "<div><style>\n",
       ".dataframe > thead > tr,\n",
       ".dataframe > tbody > tr {\n",
       "  text-align: right;\n",
       "  white-space: pre-wrap;\n",
       "}\n",
       "</style>\n",
       "<small>shape: (353_157, 9)</small><table border=\"1\" class=\"dataframe\"><thead><tr><th>Sex</th><th>Length</th><th>Diameter</th><th>Height</th><th>Whole weight</th><th>Shucked weight</th><th>Viscera weight</th><th>Shell weight</th><th>Age</th></tr><tr><td>str</td><td>f64</td><td>f64</td><td>f64</td><td>f64</td><td>f64</td><td>f64</td><td>f64</td><td>f64</td></tr></thead><tbody><tr><td>&quot;M&quot;</td><td>0.35</td><td>0.265</td><td>0.09</td><td>0.2255</td><td>0.0995</td><td>0.0485</td><td>0.07</td><td>8.5</td></tr><tr><td>&quot;I&quot;</td><td>0.33</td><td>0.255</td><td>0.08</td><td>0.205</td><td>0.0895</td><td>0.0395</td><td>0.055</td><td>8.5</td></tr><tr><td>&quot;I&quot;</td><td>0.425</td><td>0.3</td><td>0.095</td><td>0.3515</td><td>0.141</td><td>0.0775</td><td>0.12</td><td>9.5</td></tr><tr><td>&quot;I&quot;</td><td>0.355</td><td>0.28</td><td>0.085</td><td>0.2905</td><td>0.095</td><td>0.0395</td><td>0.115</td><td>8.5</td></tr><tr><td>&quot;M&quot;</td><td>0.365</td><td>0.295</td><td>0.08</td><td>0.2555</td><td>0.097</td><td>0.043</td><td>0.1</td><td>8.5</td></tr><tr><td>&quot;M&quot;</td><td>0.465</td><td>0.355</td><td>0.105</td><td>0.4795</td><td>0.227</td><td>0.124</td><td>0.125</td><td>9.5</td></tr><tr><td>&quot;F&quot;</td><td>0.45</td><td>0.355</td><td>0.105</td><td>0.5225</td><td>0.237</td><td>0.1165</td><td>0.145</td><td>9.5</td></tr><tr><td>&quot;I&quot;</td><td>0.24</td><td>0.175</td><td>0.045</td><td>0.07</td><td>0.0315</td><td>0.0235</td><td>0.02</td><td>6.5</td></tr><tr><td>&quot;I&quot;</td><td>0.205</td><td>0.15</td><td>0.055</td><td>0.7985</td><td>0.0255</td><td>0.015</td><td>0.012</td><td>6.5</td></tr><tr><td>&quot;I&quot;</td><td>0.21</td><td>0.15</td><td>0.05</td><td>0.042</td><td>0.0175</td><td>0.0125</td><td>0.015</td><td>5.5</td></tr><tr><td>&quot;I&quot;</td><td>0.39</td><td>0.295</td><td>0.095</td><td>0.203</td><td>0.0875</td><td>0.045</td><td>0.075</td><td>8.5</td></tr><tr><td>&quot;F&quot;</td><td>0.46</td><td>0.375</td><td>0.12</td><td>0.4605</td><td>0.1775</td><td>0.11</td><td>0.15</td><td>8.5</td></tr><tr><td>&hellip;</td><td>&hellip;</td><td>&hellip;</td><td>&hellip;</td><td>&hellip;</td><td>&hellip;</td><td>&hellip;</td><td>&hellip;</td><td>&hellip;</td></tr><tr><td>&quot;I&quot;</td><td>0.43</td><td>0.315</td><td>0.115</td><td>0.384</td><td>0.1885</td><td>0.0715</td><td>0.11</td><td>9.5</td></tr><tr><td>&quot;I&quot;</td><td>0.435</td><td>0.33</td><td>0.095</td><td>0.393</td><td>0.219</td><td>0.075</td><td>0.0885</td><td>7.5</td></tr><tr><td>&quot;I&quot;</td><td>0.44</td><td>0.35</td><td>0.11</td><td>0.3805</td><td>0.1575</td><td>0.0895</td><td>0.115</td><td>7.5</td></tr><tr><td>&quot;M&quot;</td><td>0.475</td><td>0.37</td><td>0.11</td><td>0.4895</td><td>0.2185</td><td>0.107</td><td>0.146</td><td>9.5</td></tr><tr><td>&quot;M&quot;</td><td>0.475</td><td>0.36</td><td>0.14</td><td>0.5135</td><td>0.241</td><td>0.1045</td><td>0.155</td><td>9.5</td></tr><tr><td>&quot;I&quot;</td><td>0.48</td><td>0.355</td><td>0.11</td><td>0.4495</td><td>0.201</td><td>0.089</td><td>0.14</td><td>9.5</td></tr><tr><td>&quot;M&quot;</td><td>0.385</td><td>0.255</td><td>0.1</td><td>0.3175</td><td>0.137</td><td>0.068</td><td>0.092</td><td>9.5</td></tr><tr><td>&quot;I&quot;</td><td>0.39</td><td>0.425</td><td>0.085</td><td>0.344</td><td>0.181</td><td>0.0695</td><td>0.079</td><td>8.5</td></tr><tr><td>&quot;I&quot;</td><td>0.39</td><td>0.29</td><td>0.1</td><td>0.2845</td><td>0.1255</td><td>0.0635</td><td>0.235</td><td>8.5</td></tr><tr><td>&quot;I&quot;</td><td>0.405</td><td>0.3</td><td>0.085</td><td>0.3035</td><td>0.15</td><td>0.0505</td><td>0.088</td><td>8.5</td></tr><tr><td>&quot;F&quot;</td><td>0.515</td><td>0.4</td><td>0.125</td><td>0.615</td><td>0.2865</td><td>0.123</td><td>0.1765</td><td>9.5</td></tr><tr><td>&quot;M&quot;</td><td>0.56</td><td>0.43</td><td>0.155</td><td>0.8675</td><td>0.4</td><td>0.172</td><td>0.229</td><td>9.5</td></tr></tbody></table></div>"
      ],
      "text/plain": [
       "shape: (353_157, 9)\n",
       "┌─────┬────────┬──────────┬────────┬───┬────────────────┬────────────────┬──────────────┬─────┐\n",
       "│ Sex ┆ Length ┆ Diameter ┆ Height ┆ … ┆ Shucked weight ┆ Viscera weight ┆ Shell weight ┆ Age │\n",
       "│ --- ┆ ---    ┆ ---      ┆ ---    ┆   ┆ ---            ┆ ---            ┆ ---          ┆ --- │\n",
       "│ str ┆ f64    ┆ f64      ┆ f64    ┆   ┆ f64            ┆ f64            ┆ f64          ┆ f64 │\n",
       "╞═════╪════════╪══════════╪════════╪═══╪════════════════╪════════════════╪══════════════╪═════╡\n",
       "│ M   ┆ 0.35   ┆ 0.265    ┆ 0.09   ┆ … ┆ 0.0995         ┆ 0.0485         ┆ 0.07         ┆ 8.5 │\n",
       "│ I   ┆ 0.33   ┆ 0.255    ┆ 0.08   ┆ … ┆ 0.0895         ┆ 0.0395         ┆ 0.055        ┆ 8.5 │\n",
       "│ I   ┆ 0.425  ┆ 0.3      ┆ 0.095  ┆ … ┆ 0.141          ┆ 0.0775         ┆ 0.12         ┆ 9.5 │\n",
       "│ I   ┆ 0.355  ┆ 0.28     ┆ 0.085  ┆ … ┆ 0.095          ┆ 0.0395         ┆ 0.115        ┆ 8.5 │\n",
       "│ …   ┆ …      ┆ …        ┆ …      ┆ … ┆ …              ┆ …              ┆ …            ┆ …   │\n",
       "│ I   ┆ 0.39   ┆ 0.29     ┆ 0.1    ┆ … ┆ 0.1255         ┆ 0.0635         ┆ 0.235        ┆ 8.5 │\n",
       "│ I   ┆ 0.405  ┆ 0.3      ┆ 0.085  ┆ … ┆ 0.15           ┆ 0.0505         ┆ 0.088        ┆ 8.5 │\n",
       "│ F   ┆ 0.515  ┆ 0.4      ┆ 0.125  ┆ … ┆ 0.2865         ┆ 0.123          ┆ 0.1765       ┆ 9.5 │\n",
       "│ M   ┆ 0.56   ┆ 0.43     ┆ 0.155  ┆ … ┆ 0.4            ┆ 0.172          ┆ 0.229        ┆ 9.5 │\n",
       "└─────┴────────┴──────────┴────────┴───┴────────────────┴────────────────┴──────────────┴─────┘"
      ]
     },
     "execution_count": 118,
     "metadata": {},
     "output_type": "execute_result"
    }
   ],
   "source": [
    "%%time\n",
    "df_pl.filter(pl.col('Age') < 10.5)"
   ]
  },
  {
   "cell_type": "code",
   "execution_count": 120,
   "id": "cf1767cc",
   "metadata": {},
   "outputs": [
    {
     "name": "stdout",
     "output_type": "stream",
     "text": [
      "CPU times: total: 15.6 ms\n",
      "Wall time: 19.6 ms\n"
     ]
    },
    {
     "data": {
      "text/html": [
       "<div>\n",
       "<style scoped>\n",
       "    .dataframe tbody tr th:only-of-type {\n",
       "        vertical-align: middle;\n",
       "    }\n",
       "\n",
       "    .dataframe tbody tr th {\n",
       "        vertical-align: top;\n",
       "    }\n",
       "\n",
       "    .dataframe thead th {\n",
       "        text-align: right;\n",
       "    }\n",
       "</style>\n",
       "<table border=\"1\" class=\"dataframe\">\n",
       "  <thead>\n",
       "    <tr style=\"text-align: right;\">\n",
       "      <th></th>\n",
       "      <th>Sex</th>\n",
       "      <th>Length</th>\n",
       "      <th>Diameter</th>\n",
       "      <th>Height</th>\n",
       "      <th>Whole weight</th>\n",
       "      <th>Shucked weight</th>\n",
       "      <th>Viscera weight</th>\n",
       "      <th>Shell weight</th>\n",
       "      <th>Age</th>\n",
       "    </tr>\n",
       "  </thead>\n",
       "  <tbody>\n",
       "    <tr>\n",
       "      <th>1</th>\n",
       "      <td>M</td>\n",
       "      <td>0.350</td>\n",
       "      <td>0.265</td>\n",
       "      <td>0.090</td>\n",
       "      <td>0.2255</td>\n",
       "      <td>0.0995</td>\n",
       "      <td>0.0485</td>\n",
       "      <td>0.0700</td>\n",
       "      <td>8.5</td>\n",
       "    </tr>\n",
       "    <tr>\n",
       "      <th>4</th>\n",
       "      <td>I</td>\n",
       "      <td>0.330</td>\n",
       "      <td>0.255</td>\n",
       "      <td>0.080</td>\n",
       "      <td>0.2050</td>\n",
       "      <td>0.0895</td>\n",
       "      <td>0.0395</td>\n",
       "      <td>0.0550</td>\n",
       "      <td>8.5</td>\n",
       "    </tr>\n",
       "    <tr>\n",
       "      <th>5</th>\n",
       "      <td>I</td>\n",
       "      <td>0.425</td>\n",
       "      <td>0.300</td>\n",
       "      <td>0.095</td>\n",
       "      <td>0.3515</td>\n",
       "      <td>0.1410</td>\n",
       "      <td>0.0775</td>\n",
       "      <td>0.1200</td>\n",
       "      <td>9.5</td>\n",
       "    </tr>\n",
       "    <tr>\n",
       "      <th>16</th>\n",
       "      <td>I</td>\n",
       "      <td>0.355</td>\n",
       "      <td>0.280</td>\n",
       "      <td>0.085</td>\n",
       "      <td>0.2905</td>\n",
       "      <td>0.0950</td>\n",
       "      <td>0.0395</td>\n",
       "      <td>0.1150</td>\n",
       "      <td>8.5</td>\n",
       "    </tr>\n",
       "    <tr>\n",
       "      <th>18</th>\n",
       "      <td>M</td>\n",
       "      <td>0.365</td>\n",
       "      <td>0.295</td>\n",
       "      <td>0.080</td>\n",
       "      <td>0.2555</td>\n",
       "      <td>0.0970</td>\n",
       "      <td>0.0430</td>\n",
       "      <td>0.1000</td>\n",
       "      <td>8.5</td>\n",
       "    </tr>\n",
       "    <tr>\n",
       "      <th>...</th>\n",
       "      <td>...</td>\n",
       "      <td>...</td>\n",
       "      <td>...</td>\n",
       "      <td>...</td>\n",
       "      <td>...</td>\n",
       "      <td>...</td>\n",
       "      <td>...</td>\n",
       "      <td>...</td>\n",
       "      <td>...</td>\n",
       "    </tr>\n",
       "    <tr>\n",
       "      <th>1048413</th>\n",
       "      <td>I</td>\n",
       "      <td>0.390</td>\n",
       "      <td>0.425</td>\n",
       "      <td>0.085</td>\n",
       "      <td>0.3440</td>\n",
       "      <td>0.1810</td>\n",
       "      <td>0.0695</td>\n",
       "      <td>0.0790</td>\n",
       "      <td>8.5</td>\n",
       "    </tr>\n",
       "    <tr>\n",
       "      <th>1048414</th>\n",
       "      <td>I</td>\n",
       "      <td>0.390</td>\n",
       "      <td>0.290</td>\n",
       "      <td>0.100</td>\n",
       "      <td>0.2845</td>\n",
       "      <td>0.1255</td>\n",
       "      <td>0.0635</td>\n",
       "      <td>0.2350</td>\n",
       "      <td>8.5</td>\n",
       "    </tr>\n",
       "    <tr>\n",
       "      <th>1048415</th>\n",
       "      <td>I</td>\n",
       "      <td>0.405</td>\n",
       "      <td>0.300</td>\n",
       "      <td>0.085</td>\n",
       "      <td>0.3035</td>\n",
       "      <td>0.1500</td>\n",
       "      <td>0.0505</td>\n",
       "      <td>0.0880</td>\n",
       "      <td>8.5</td>\n",
       "    </tr>\n",
       "    <tr>\n",
       "      <th>1048418</th>\n",
       "      <td>F</td>\n",
       "      <td>0.515</td>\n",
       "      <td>0.400</td>\n",
       "      <td>0.125</td>\n",
       "      <td>0.6150</td>\n",
       "      <td>0.2865</td>\n",
       "      <td>0.1230</td>\n",
       "      <td>0.1765</td>\n",
       "      <td>9.5</td>\n",
       "    </tr>\n",
       "    <tr>\n",
       "      <th>1048421</th>\n",
       "      <td>M</td>\n",
       "      <td>0.560</td>\n",
       "      <td>0.430</td>\n",
       "      <td>0.155</td>\n",
       "      <td>0.8675</td>\n",
       "      <td>0.4000</td>\n",
       "      <td>0.1720</td>\n",
       "      <td>0.2290</td>\n",
       "      <td>9.5</td>\n",
       "    </tr>\n",
       "  </tbody>\n",
       "</table>\n",
       "<p>353157 rows × 9 columns</p>\n",
       "</div>"
      ],
      "text/plain": [
       "        Sex  Length  Diameter  Height  Whole weight  Shucked weight  \\\n",
       "1         M   0.350     0.265   0.090        0.2255          0.0995   \n",
       "4         I   0.330     0.255   0.080        0.2050          0.0895   \n",
       "5         I   0.425     0.300   0.095        0.3515          0.1410   \n",
       "16        I   0.355     0.280   0.085        0.2905          0.0950   \n",
       "18        M   0.365     0.295   0.080        0.2555          0.0970   \n",
       "...      ..     ...       ...     ...           ...             ...   \n",
       "1048413   I   0.390     0.425   0.085        0.3440          0.1810   \n",
       "1048414   I   0.390     0.290   0.100        0.2845          0.1255   \n",
       "1048415   I   0.405     0.300   0.085        0.3035          0.1500   \n",
       "1048418   F   0.515     0.400   0.125        0.6150          0.2865   \n",
       "1048421   M   0.560     0.430   0.155        0.8675          0.4000   \n",
       "\n",
       "         Viscera weight  Shell weight  Age  \n",
       "1                0.0485        0.0700  8.5  \n",
       "4                0.0395        0.0550  8.5  \n",
       "5                0.0775        0.1200  9.5  \n",
       "16               0.0395        0.1150  8.5  \n",
       "18               0.0430        0.1000  8.5  \n",
       "...                 ...           ...  ...  \n",
       "1048413          0.0695        0.0790  8.5  \n",
       "1048414          0.0635        0.2350  8.5  \n",
       "1048415          0.0505        0.0880  8.5  \n",
       "1048418          0.1230        0.1765  9.5  \n",
       "1048421          0.1720        0.2290  9.5  \n",
       "\n",
       "[353157 rows x 9 columns]"
      ]
     },
     "execution_count": 120,
     "metadata": {},
     "output_type": "execute_result"
    }
   ],
   "source": [
    "%%time\n",
    "df_pd[df_pd['Age'] < 10.5]"
   ]
  },
  {
   "cell_type": "markdown",
   "id": "d650bfd2",
   "metadata": {},
   "source": [
    "Фильтрация кажется быстрее у Pandas"
   ]
  },
  {
   "cell_type": "code",
   "execution_count": 150,
   "id": "c307c53a",
   "metadata": {},
   "outputs": [
    {
     "name": "stdout",
     "output_type": "stream",
     "text": [
      "CPU times: total: 109 ms\n",
      "Wall time: 35.8 ms\n"
     ]
    },
    {
     "data": {
      "text/html": [
       "<div><style>\n",
       ".dataframe > thead > tr,\n",
       ".dataframe > tbody > tr {\n",
       "  text-align: right;\n",
       "  white-space: pre-wrap;\n",
       "}\n",
       "</style>\n",
       "<small>shape: (3, 2)</small><table border=\"1\" class=\"dataframe\"><thead><tr><th>Sex</th><th>Age</th></tr><tr><td>str</td><td>f64</td></tr></thead><tbody><tr><td>&quot;F&quot;</td><td>12.501376</td></tr><tr><td>&quot;M&quot;</td><td>12.178645</td></tr><tr><td>&quot;I&quot;</td><td>9.372257</td></tr></tbody></table></div>"
      ],
      "text/plain": [
       "shape: (3, 2)\n",
       "┌─────┬───────────┐\n",
       "│ Sex ┆ Age       │\n",
       "│ --- ┆ ---       │\n",
       "│ str ┆ f64       │\n",
       "╞═════╪═══════════╡\n",
       "│ F   ┆ 12.501376 │\n",
       "│ M   ┆ 12.178645 │\n",
       "│ I   ┆ 9.372257  │\n",
       "└─────┴───────────┘"
      ]
     },
     "execution_count": 150,
     "metadata": {},
     "output_type": "execute_result"
    }
   ],
   "source": [
    "%%time\n",
    "df_pl.group_by('Sex').agg(pl.mean('Age'))"
   ]
  },
  {
   "cell_type": "code",
   "execution_count": 143,
   "id": "a3bf6e01",
   "metadata": {},
   "outputs": [
    {
     "name": "stdout",
     "output_type": "stream",
     "text": [
      "CPU times: total: 78.1 ms\n",
      "Wall time: 52.5 ms\n"
     ]
    },
    {
     "data": {
      "text/html": [
       "<div>\n",
       "<style scoped>\n",
       "    .dataframe tbody tr th:only-of-type {\n",
       "        vertical-align: middle;\n",
       "    }\n",
       "\n",
       "    .dataframe tbody tr th {\n",
       "        vertical-align: top;\n",
       "    }\n",
       "\n",
       "    .dataframe thead th {\n",
       "        text-align: right;\n",
       "    }\n",
       "</style>\n",
       "<table border=\"1\" class=\"dataframe\">\n",
       "  <thead>\n",
       "    <tr style=\"text-align: right;\">\n",
       "      <th></th>\n",
       "      <th>Age</th>\n",
       "    </tr>\n",
       "    <tr>\n",
       "      <th>Sex</th>\n",
       "      <th></th>\n",
       "    </tr>\n",
       "  </thead>\n",
       "  <tbody>\n",
       "    <tr>\n",
       "      <th>F</th>\n",
       "      <td>12.501376</td>\n",
       "    </tr>\n",
       "    <tr>\n",
       "      <th>I</th>\n",
       "      <td>9.372257</td>\n",
       "    </tr>\n",
       "    <tr>\n",
       "      <th>M</th>\n",
       "      <td>12.178645</td>\n",
       "    </tr>\n",
       "  </tbody>\n",
       "</table>\n",
       "</div>"
      ],
      "text/plain": [
       "           Age\n",
       "Sex           \n",
       "F    12.501376\n",
       "I     9.372257\n",
       "M    12.178645"
      ]
     },
     "execution_count": 143,
     "metadata": {},
     "output_type": "execute_result"
    }
   ],
   "source": [
    "%%time\n",
    "df_pd.groupby('Sex').agg({'Age': 'mean'})"
   ]
  },
  {
   "cell_type": "markdown",
   "id": "c950f560",
   "metadata": {},
   "source": [
    "Polars как-будто быстрее агрегирует данные, но с каждым выполнением время разное. Несколько раз Pandas был быстрее."
   ]
  }
 ],
 "metadata": {
  "kernelspec": {
   "display_name": "Python 3 (ipykernel)",
   "language": "python",
   "name": "python3"
  },
  "language_info": {
   "codemirror_mode": {
    "name": "ipython",
    "version": 3
   },
   "file_extension": ".py",
   "mimetype": "text/x-python",
   "name": "python",
   "nbconvert_exporter": "python",
   "pygments_lexer": "ipython3",
   "version": "3.9.12"
  }
 },
 "nbformat": 4,
 "nbformat_minor": 5
}
